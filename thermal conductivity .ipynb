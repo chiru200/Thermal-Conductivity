{
 "cells": [
  {
   "cell_type": "code",
   "execution_count": 4,
   "metadata": {},
   "outputs": [
    {
     "data": {
      "text/html": [
       "<div>\n",
       "<style scoped>\n",
       "    .dataframe tbody tr th:only-of-type {\n",
       "        vertical-align: middle;\n",
       "    }\n",
       "\n",
       "    .dataframe tbody tr th {\n",
       "        vertical-align: top;\n",
       "    }\n",
       "\n",
       "    .dataframe thead th {\n",
       "        text-align: right;\n",
       "    }\n",
       "</style>\n",
       "<table border=\"1\" class=\"dataframe\">\n",
       "  <thead>\n",
       "    <tr style=\"text-align: right;\">\n",
       "      <th></th>\n",
       "      <th>Time</th>\n",
       "      <th>NormalTemp1</th>\n",
       "      <th>NormalTemp2</th>\n",
       "      <th>Average1</th>\n",
       "      <th>PaintedTemp1</th>\n",
       "      <th>PaintedTemp2</th>\n",
       "      <th>Average2</th>\n",
       "      <th>SE1</th>\n",
       "      <th>SE2</th>\n",
       "      <th>t test</th>\n",
       "      <th>statistics</th>\n",
       "    </tr>\n",
       "  </thead>\n",
       "  <tbody>\n",
       "    <tr>\n",
       "      <th>0</th>\n",
       "      <td>30</td>\n",
       "      <td>86.0</td>\n",
       "      <td>88.0</td>\n",
       "      <td>87.00</td>\n",
       "      <td>85.0</td>\n",
       "      <td>84.0</td>\n",
       "      <td>84.50</td>\n",
       "      <td>1.00</td>\n",
       "      <td>0.50</td>\n",
       "      <td>t-test</td>\n",
       "      <td>NaN</td>\n",
       "    </tr>\n",
       "    <tr>\n",
       "      <th>1</th>\n",
       "      <td>60</td>\n",
       "      <td>84.5</td>\n",
       "      <td>86.0</td>\n",
       "      <td>85.25</td>\n",
       "      <td>84.0</td>\n",
       "      <td>82.0</td>\n",
       "      <td>83.00</td>\n",
       "      <td>0.75</td>\n",
       "      <td>1.00</td>\n",
       "      <td>Alpha</td>\n",
       "      <td>5.000000e-02</td>\n",
       "    </tr>\n",
       "    <tr>\n",
       "      <th>2</th>\n",
       "      <td>90</td>\n",
       "      <td>83.5</td>\n",
       "      <td>85.0</td>\n",
       "      <td>84.25</td>\n",
       "      <td>83.0</td>\n",
       "      <td>81.0</td>\n",
       "      <td>82.00</td>\n",
       "      <td>0.75</td>\n",
       "      <td>1.00</td>\n",
       "      <td>Hypothesized Mean Difference</td>\n",
       "      <td>0.000000e+00</td>\n",
       "    </tr>\n",
       "    <tr>\n",
       "      <th>3</th>\n",
       "      <td>120</td>\n",
       "      <td>82.5</td>\n",
       "      <td>84.0</td>\n",
       "      <td>83.25</td>\n",
       "      <td>81.0</td>\n",
       "      <td>80.0</td>\n",
       "      <td>80.50</td>\n",
       "      <td>0.75</td>\n",
       "      <td>0.50</td>\n",
       "      <td>Mean</td>\n",
       "      <td>4.050000e+02</td>\n",
       "    </tr>\n",
       "    <tr>\n",
       "      <th>4</th>\n",
       "      <td>150</td>\n",
       "      <td>81.5</td>\n",
       "      <td>83.0</td>\n",
       "      <td>82.25</td>\n",
       "      <td>80.0</td>\n",
       "      <td>78.5</td>\n",
       "      <td>79.25</td>\n",
       "      <td>0.75</td>\n",
       "      <td>0.75</td>\n",
       "      <td>Variance</td>\n",
       "      <td>5.265000e+04</td>\n",
       "    </tr>\n",
       "    <tr>\n",
       "      <th>5</th>\n",
       "      <td>180</td>\n",
       "      <td>80.0</td>\n",
       "      <td>81.5</td>\n",
       "      <td>80.75</td>\n",
       "      <td>79.0</td>\n",
       "      <td>77.0</td>\n",
       "      <td>78.00</td>\n",
       "      <td>0.75</td>\n",
       "      <td>1.00</td>\n",
       "      <td>Observations</td>\n",
       "      <td>2.600000e+01</td>\n",
       "    </tr>\n",
       "    <tr>\n",
       "      <th>6</th>\n",
       "      <td>210</td>\n",
       "      <td>79.0</td>\n",
       "      <td>80.5</td>\n",
       "      <td>79.75</td>\n",
       "      <td>77.0</td>\n",
       "      <td>76.0</td>\n",
       "      <td>76.50</td>\n",
       "      <td>0.75</td>\n",
       "      <td>0.50</td>\n",
       "      <td>Pearson Correlation</td>\n",
       "      <td>-9.968024e-01</td>\n",
       "    </tr>\n",
       "    <tr>\n",
       "      <th>7</th>\n",
       "      <td>240</td>\n",
       "      <td>78.0</td>\n",
       "      <td>79.5</td>\n",
       "      <td>78.75</td>\n",
       "      <td>76.0</td>\n",
       "      <td>75.0</td>\n",
       "      <td>75.50</td>\n",
       "      <td>0.75</td>\n",
       "      <td>0.50</td>\n",
       "      <td>Observed Mean Difference</td>\n",
       "      <td>3.313077e+02</td>\n",
       "    </tr>\n",
       "    <tr>\n",
       "      <th>8</th>\n",
       "      <td>270</td>\n",
       "      <td>77.0</td>\n",
       "      <td>78.5</td>\n",
       "      <td>77.75</td>\n",
       "      <td>75.5</td>\n",
       "      <td>74.0</td>\n",
       "      <td>74.75</td>\n",
       "      <td>0.75</td>\n",
       "      <td>0.75</td>\n",
       "      <td>Variance of the Differences</td>\n",
       "      <td>5.608191e+04</td>\n",
       "    </tr>\n",
       "    <tr>\n",
       "      <th>9</th>\n",
       "      <td>300</td>\n",
       "      <td>76.0</td>\n",
       "      <td>77.5</td>\n",
       "      <td>76.75</td>\n",
       "      <td>74.5</td>\n",
       "      <td>73.0</td>\n",
       "      <td>73.75</td>\n",
       "      <td>0.75</td>\n",
       "      <td>0.75</td>\n",
       "      <td>df</td>\n",
       "      <td>2.500000e+01</td>\n",
       "    </tr>\n",
       "    <tr>\n",
       "      <th>10</th>\n",
       "      <td>330</td>\n",
       "      <td>75.0</td>\n",
       "      <td>76.5</td>\n",
       "      <td>75.75</td>\n",
       "      <td>73.5</td>\n",
       "      <td>72.0</td>\n",
       "      <td>72.75</td>\n",
       "      <td>0.75</td>\n",
       "      <td>0.75</td>\n",
       "      <td>t Stat</td>\n",
       "      <td>7.133568e+00</td>\n",
       "    </tr>\n",
       "    <tr>\n",
       "      <th>11</th>\n",
       "      <td>360</td>\n",
       "      <td>74.0</td>\n",
       "      <td>75.0</td>\n",
       "      <td>74.50</td>\n",
       "      <td>72.5</td>\n",
       "      <td>71.5</td>\n",
       "      <td>72.00</td>\n",
       "      <td>0.50</td>\n",
       "      <td>0.50</td>\n",
       "      <td>P (T&lt;=t) one-tail</td>\n",
       "      <td>8.889623e-08</td>\n",
       "    </tr>\n",
       "    <tr>\n",
       "      <th>12</th>\n",
       "      <td>390</td>\n",
       "      <td>73.0</td>\n",
       "      <td>74.0</td>\n",
       "      <td>73.50</td>\n",
       "      <td>71.5</td>\n",
       "      <td>70.0</td>\n",
       "      <td>70.75</td>\n",
       "      <td>0.50</td>\n",
       "      <td>0.75</td>\n",
       "      <td>t Critical one-tail</td>\n",
       "      <td>1.708141e+00</td>\n",
       "    </tr>\n",
       "    <tr>\n",
       "      <th>13</th>\n",
       "      <td>420</td>\n",
       "      <td>72.5</td>\n",
       "      <td>73.0</td>\n",
       "      <td>72.75</td>\n",
       "      <td>70.5</td>\n",
       "      <td>68.5</td>\n",
       "      <td>69.50</td>\n",
       "      <td>0.25</td>\n",
       "      <td>1.00</td>\n",
       "      <td>P (T&lt;=t) two-tail</td>\n",
       "      <td>1.777925e-07</td>\n",
       "    </tr>\n",
       "    <tr>\n",
       "      <th>14</th>\n",
       "      <td>450</td>\n",
       "      <td>71.5</td>\n",
       "      <td>72.5</td>\n",
       "      <td>72.00</td>\n",
       "      <td>69.5</td>\n",
       "      <td>67.5</td>\n",
       "      <td>68.50</td>\n",
       "      <td>0.50</td>\n",
       "      <td>1.00</td>\n",
       "      <td>t Critical two-tail</td>\n",
       "      <td>2.059539e+00</td>\n",
       "    </tr>\n",
       "    <tr>\n",
       "      <th>15</th>\n",
       "      <td>480</td>\n",
       "      <td>69.5</td>\n",
       "      <td>71.5</td>\n",
       "      <td>70.50</td>\n",
       "      <td>68.5</td>\n",
       "      <td>66.5</td>\n",
       "      <td>67.50</td>\n",
       "      <td>1.00</td>\n",
       "      <td>1.00</td>\n",
       "      <td>NaN</td>\n",
       "      <td>NaN</td>\n",
       "    </tr>\n",
       "    <tr>\n",
       "      <th>16</th>\n",
       "      <td>510</td>\n",
       "      <td>68.5</td>\n",
       "      <td>70.5</td>\n",
       "      <td>69.50</td>\n",
       "      <td>67.5</td>\n",
       "      <td>66.0</td>\n",
       "      <td>66.75</td>\n",
       "      <td>1.00</td>\n",
       "      <td>0.75</td>\n",
       "      <td>NaN</td>\n",
       "      <td>NaN</td>\n",
       "    </tr>\n",
       "    <tr>\n",
       "      <th>17</th>\n",
       "      <td>540</td>\n",
       "      <td>68.0</td>\n",
       "      <td>70.0</td>\n",
       "      <td>69.00</td>\n",
       "      <td>66.5</td>\n",
       "      <td>65.0</td>\n",
       "      <td>65.75</td>\n",
       "      <td>1.00</td>\n",
       "      <td>0.75</td>\n",
       "      <td>NaN</td>\n",
       "      <td>NaN</td>\n",
       "    </tr>\n",
       "    <tr>\n",
       "      <th>18</th>\n",
       "      <td>570</td>\n",
       "      <td>67.0</td>\n",
       "      <td>69.0</td>\n",
       "      <td>68.00</td>\n",
       "      <td>65.0</td>\n",
       "      <td>64.0</td>\n",
       "      <td>64.50</td>\n",
       "      <td>1.00</td>\n",
       "      <td>0.50</td>\n",
       "      <td>NaN</td>\n",
       "      <td>NaN</td>\n",
       "    </tr>\n",
       "    <tr>\n",
       "      <th>19</th>\n",
       "      <td>600</td>\n",
       "      <td>66.0</td>\n",
       "      <td>68.0</td>\n",
       "      <td>67.00</td>\n",
       "      <td>64.5</td>\n",
       "      <td>63.0</td>\n",
       "      <td>63.75</td>\n",
       "      <td>1.00</td>\n",
       "      <td>0.75</td>\n",
       "      <td>NaN</td>\n",
       "      <td>NaN</td>\n",
       "    </tr>\n",
       "    <tr>\n",
       "      <th>20</th>\n",
       "      <td>630</td>\n",
       "      <td>65.5</td>\n",
       "      <td>67.5</td>\n",
       "      <td>66.50</td>\n",
       "      <td>64.0</td>\n",
       "      <td>62.0</td>\n",
       "      <td>63.00</td>\n",
       "      <td>1.00</td>\n",
       "      <td>1.00</td>\n",
       "      <td>NaN</td>\n",
       "      <td>NaN</td>\n",
       "    </tr>\n",
       "    <tr>\n",
       "      <th>21</th>\n",
       "      <td>660</td>\n",
       "      <td>65.0</td>\n",
       "      <td>66.5</td>\n",
       "      <td>65.75</td>\n",
       "      <td>63.0</td>\n",
       "      <td>61.5</td>\n",
       "      <td>62.25</td>\n",
       "      <td>0.75</td>\n",
       "      <td>0.75</td>\n",
       "      <td>NaN</td>\n",
       "      <td>NaN</td>\n",
       "    </tr>\n",
       "    <tr>\n",
       "      <th>22</th>\n",
       "      <td>690</td>\n",
       "      <td>64.5</td>\n",
       "      <td>65.5</td>\n",
       "      <td>65.00</td>\n",
       "      <td>62.5</td>\n",
       "      <td>60.5</td>\n",
       "      <td>61.50</td>\n",
       "      <td>0.50</td>\n",
       "      <td>1.00</td>\n",
       "      <td>NaN</td>\n",
       "      <td>NaN</td>\n",
       "    </tr>\n",
       "    <tr>\n",
       "      <th>23</th>\n",
       "      <td>720</td>\n",
       "      <td>63.5</td>\n",
       "      <td>64.5</td>\n",
       "      <td>64.00</td>\n",
       "      <td>61.5</td>\n",
       "      <td>60.0</td>\n",
       "      <td>60.75</td>\n",
       "      <td>0.50</td>\n",
       "      <td>0.75</td>\n",
       "      <td>NaN</td>\n",
       "      <td>NaN</td>\n",
       "    </tr>\n",
       "    <tr>\n",
       "      <th>24</th>\n",
       "      <td>750</td>\n",
       "      <td>63.0</td>\n",
       "      <td>64.0</td>\n",
       "      <td>63.50</td>\n",
       "      <td>61.0</td>\n",
       "      <td>59.0</td>\n",
       "      <td>60.00</td>\n",
       "      <td>0.50</td>\n",
       "      <td>1.00</td>\n",
       "      <td>NaN</td>\n",
       "      <td>NaN</td>\n",
       "    </tr>\n",
       "    <tr>\n",
       "      <th>25</th>\n",
       "      <td>780</td>\n",
       "      <td>62.5</td>\n",
       "      <td>63.5</td>\n",
       "      <td>63.00</td>\n",
       "      <td>60.0</td>\n",
       "      <td>58.0</td>\n",
       "      <td>59.00</td>\n",
       "      <td>0.50</td>\n",
       "      <td>1.00</td>\n",
       "      <td>NaN</td>\n",
       "      <td>NaN</td>\n",
       "    </tr>\n",
       "  </tbody>\n",
       "</table>\n",
       "</div>"
      ],
      "text/plain": [
       "    Time  NormalTemp1  NormalTemp2  Average1  PaintedTemp1  PaintedTemp2  \\\n",
       "0     30         86.0         88.0     87.00          85.0          84.0   \n",
       "1     60         84.5         86.0     85.25          84.0          82.0   \n",
       "2     90         83.5         85.0     84.25          83.0          81.0   \n",
       "3    120         82.5         84.0     83.25          81.0          80.0   \n",
       "4    150         81.5         83.0     82.25          80.0          78.5   \n",
       "5    180         80.0         81.5     80.75          79.0          77.0   \n",
       "6    210         79.0         80.5     79.75          77.0          76.0   \n",
       "7    240         78.0         79.5     78.75          76.0          75.0   \n",
       "8    270         77.0         78.5     77.75          75.5          74.0   \n",
       "9    300         76.0         77.5     76.75          74.5          73.0   \n",
       "10   330         75.0         76.5     75.75          73.5          72.0   \n",
       "11   360         74.0         75.0     74.50          72.5          71.5   \n",
       "12   390         73.0         74.0     73.50          71.5          70.0   \n",
       "13   420         72.5         73.0     72.75          70.5          68.5   \n",
       "14   450         71.5         72.5     72.00          69.5          67.5   \n",
       "15   480         69.5         71.5     70.50          68.5          66.5   \n",
       "16   510         68.5         70.5     69.50          67.5          66.0   \n",
       "17   540         68.0         70.0     69.00          66.5          65.0   \n",
       "18   570         67.0         69.0     68.00          65.0          64.0   \n",
       "19   600         66.0         68.0     67.00          64.5          63.0   \n",
       "20   630         65.5         67.5     66.50          64.0          62.0   \n",
       "21   660         65.0         66.5     65.75          63.0          61.5   \n",
       "22   690         64.5         65.5     65.00          62.5          60.5   \n",
       "23   720         63.5         64.5     64.00          61.5          60.0   \n",
       "24   750         63.0         64.0     63.50          61.0          59.0   \n",
       "25   780         62.5         63.5     63.00          60.0          58.0   \n",
       "\n",
       "    Average2   SE1   SE2                        t test    statistics  \n",
       "0      84.50  1.00  0.50                        t-test           NaN  \n",
       "1      83.00  0.75  1.00                         Alpha  5.000000e-02  \n",
       "2      82.00  0.75  1.00  Hypothesized Mean Difference  0.000000e+00  \n",
       "3      80.50  0.75  0.50                          Mean  4.050000e+02  \n",
       "4      79.25  0.75  0.75                      Variance  5.265000e+04  \n",
       "5      78.00  0.75  1.00                  Observations  2.600000e+01  \n",
       "6      76.50  0.75  0.50           Pearson Correlation -9.968024e-01  \n",
       "7      75.50  0.75  0.50      Observed Mean Difference  3.313077e+02  \n",
       "8      74.75  0.75  0.75   Variance of the Differences  5.608191e+04  \n",
       "9      73.75  0.75  0.75                            df  2.500000e+01  \n",
       "10     72.75  0.75  0.75                        t Stat  7.133568e+00  \n",
       "11     72.00  0.50  0.50             P (T<=t) one-tail  8.889623e-08  \n",
       "12     70.75  0.50  0.75           t Critical one-tail  1.708141e+00  \n",
       "13     69.50  0.25  1.00             P (T<=t) two-tail  1.777925e-07  \n",
       "14     68.50  0.50  1.00           t Critical two-tail  2.059539e+00  \n",
       "15     67.50  1.00  1.00                           NaN           NaN  \n",
       "16     66.75  1.00  0.75                           NaN           NaN  \n",
       "17     65.75  1.00  0.75                           NaN           NaN  \n",
       "18     64.50  1.00  0.50                           NaN           NaN  \n",
       "19     63.75  1.00  0.75                           NaN           NaN  \n",
       "20     63.00  1.00  1.00                           NaN           NaN  \n",
       "21     62.25  0.75  0.75                           NaN           NaN  \n",
       "22     61.50  0.50  1.00                           NaN           NaN  \n",
       "23     60.75  0.50  0.75                           NaN           NaN  \n",
       "24     60.00  0.50  1.00                           NaN           NaN  \n",
       "25     59.00  0.50  1.00                           NaN           NaN  "
      ]
     },
     "execution_count": 4,
     "metadata": {},
     "output_type": "execute_result"
    }
   ],
   "source": [
    "\n",
    "import pandas as pd\n",
    "import numpy as np\n",
    "import random as random\n",
    "from scipy.stats import shapiro ,norm \n",
    "import matplotlib.pyplot as plt\n",
    "from matplotlib.pyplot import figure\n",
    "%matplotlib inline\n",
    "df2 = pd.read_csv('cond.csv', names = [ 'Time', 'NormalTemp1', 'NormalTemp2','Average1','PaintedTemp1','PaintedTemp2','Average2','SE1','SE2','t test', 'statistics']) #STDEV(B1:B10)/SQRT(COUNT(B1:B10)) \n",
    "df2"
   ]
  },
  {
   "cell_type": "code",
   "execution_count": null,
   "metadata": {},
   "outputs": [],
   "source": []
  },
  {
   "cell_type": "code",
   "execution_count": 54,
   "metadata": {},
   "outputs": [
    {
     "name": "stdout",
     "output_type": "stream",
     "text": [
      "Statistics=0.944, p=0.164\n"
     ]
    }
   ],
   "source": [
    "# normality test\n",
    "stat, p = shapiro(df2.NormalTemp1)\n",
    "print('Statistics=%.3f, p=%.3f' % (stat, p))\n"
   ]
  },
  {
   "cell_type": "markdown",
   "metadata": {},
   "source": [
    "# Since the p value is greater than 0.05 , we can say that the given distribution is  normal. "
   ]
  },
  {
   "cell_type": "code",
   "execution_count": 49,
   "metadata": {},
   "outputs": [],
   "source": [
    "f = df2.NormalTemp1\n",
    "sd =f.std()\n",
    "mu = f.mean()\n",
    "a ,b = mu-3*sd, mu+3*sd\n",
    "x = np.linspace(a,b,1000)\n",
    "y = norm.pdf(x, loc = mu, scale = sd)"
   ]
  },
  {
   "cell_type": "code",
   "execution_count": 50,
   "metadata": {},
   "outputs": [
    {
     "data": {
      "text/plain": [
       "(array([0.06546645, 0.06546645, 0.04909984, 0.01636661, 0.04909984,\n",
       "        0.03273322, 0.03273322, 0.03273322, 0.04909984, 0.03273322]),\n",
       " array([62.5 , 64.85, 67.2 , 69.55, 71.9 , 74.25, 76.6 , 78.95, 81.3 ,\n",
       "        83.65, 86.  ]),\n",
       " <a list of 10 Patch objects>)"
      ]
     },
     "execution_count": 50,
     "metadata": {},
     "output_type": "execute_result"
    },
    {
     "data": {
      "image/png": "[encoded data removed]",
      "text/plain": [
       "<Figure size 432x288 with 1 Axes>"
      ]
     },
     "metadata": {
      "needs_background": "light"
     },
     "output_type": "display_data"
    }
   ],
   "source": [
    "\n",
    "\n",
    "plt.plot(x,y,'.g')\n",
    "\n",
    "plt.hist(f,alpha=.5, density = True) "
   ]
  },
  {
   "cell_type": "code",
   "execution_count": null,
   "metadata": {},
   "outputs": [],
   "source": [
    "## QQ plot"
   ]
  },
  {
   "cell_type": "code",
   "execution_count": 52,
   "metadata": {},
   "outputs": [],
   "source": [
    "import statsmodels.api as sm \n",
    "import pylab as py "
   ]
  },
  {
   "cell_type": "code",
   "execution_count": 53,
   "metadata": {},
   "outputs": [
    {
     "data": {
      "image/png": "[encoded data removed]",
      "text/plain": [
       "<Figure size 432x288 with 1 Axes>"
      ]
     },
     "metadata": {
      "needs_background": "light"
     },
     "output_type": "display_data"
    }
   ],
   "source": [
    "sm.qqplot(f, fit= True, line = \"45\") \n",
    "py.show() "
   ]
  },
  {
   "cell_type": "code",
   "execution_count": null,
   "metadata": {},
   "outputs": [],
   "source": [
    "#Standard error  of the mean, standard deviation, mean "
   ]
  },
  {
   "cell_type": "code",
   "execution_count": null,
   "metadata": {},
   "outputs": [],
   "source": [
    "from scipy.stats import sem \n"
   ]
  },
  {
   "cell_type": "code",
   "execution_count": null,
   "metadata": {},
   "outputs": [],
   "source": [
    "sem(df2.lnN)\n"
   ]
  },
  {
   "cell_type": "code",
   "execution_count": null,
   "metadata": {},
   "outputs": [],
   "source": [
    "np.std(df2.lnN) "
   ]
  },
  {
   "cell_type": "code",
   "execution_count": null,
   "metadata": {},
   "outputs": [],
   "source": [
    "np.mean(df2.lnN)"
   ]
  },
  {
   "cell_type": "markdown",
   "metadata": {},
   "source": [
    "# Curve Fitting "
   ]
  },
  {
   "cell_type": "code",
   "execution_count": null,
   "metadata": {},
   "outputs": [],
   "source": [
    "import numpy as np\n",
    "from scipy.optimize import curve_fit\n",
    "import pandas as pd\n",
    "import scipy.stats as st\n",
    "import matplotlib.pyplot as plt"
   ]
  },
  {
   "cell_type": "code",
   "execution_count": null,
   "metadata": {},
   "outputs": [],
   "source": [
    "df2"
   ]
  },
  {
   "cell_type": "code",
   "execution_count": 61,
   "metadata": {},
   "outputs": [
    {
     "name": "stdout",
     "output_type": "stream",
     "text": [
      "-0.03207407407407407\n",
      "86.68230769230769\n",
      "-0.03353276353276347\n",
      "84.19615384615383\n"
     ]
    },
    {
     "data": {
      "image/png": "[encoded data removed]",
      "text/plain": [
       "<Figure size 720x432 with 1 Axes>"
      ]
     },
     "metadata": {
      "needs_background": "light"
     },
     "output_type": "display_data"
    }
   ],
   "source": [
    "\n",
    "data = np.loadtxt(\"cond.csv\",delimiter = ',')\n",
    "#data = np.loadtxt(\"test4multiplot.txt\", dtype = str)     #if file contains multiple data types\n",
    "#data\n",
    "\n",
    "x1 = data[:,0]\n",
    "y1 = data[:,3]\n",
    "y2 = data[:,6]\n",
    "#print(x)\n",
    "#print(y)\n",
    "y1error = data[:,7]\n",
    "y2error = data[:,8]\n",
    "#plot data\n",
    "plt.figure(figsize = [10,6])\n",
    "plt.plot(x1,y1,\"-\", color = \"red\", label = \"Normal Tin\")\n",
    "plt.plot(x1,y2,\"-\", color = \"green\", label = \"Painted Tin\")\n",
    "plt.errorbar(x1,y1, yerr = y1error,ecolor = 'red', elinewidth =2,capsize =5, fmt = '.')\n",
    "plt.errorbar(x1,y2, yerr = y2error,ecolor = 'red', elinewidth =2,capsize =5, fmt = '.')\n",
    "m1 , b1 = np.polyfit(x1,y1,1)\n",
    "m2 , b2 = np.polyfit(x1,y2,1)\n",
    "print( m1)  # m = slpoe and b = intercept\n",
    "print(b1)\n",
    "print(m2)\n",
    "print(b2)\n",
    "\n",
    "plt.plot(x1,m1*x1+b1,\"--\", color = \"blue\", label= \"bestfit\")\n",
    "plt.plot(x1,m2*x1+b2,\"--\", color = \"blue\")\n",
    "\n",
    "plt.title(\"Temperature Vs Time plot\", fontsize=16)\n",
    "plt.xlabel('$Time(second)$', fontsize=14)\n",
    "plt.ylabel('$ Temperature(celsius) $', fontsize=14)\n",
    "plt.legend(fontsize=14)\n",
    "plt.grid(True) \n",
    "plt.savefig(\"cond.png\")\n",
    "# comment this if u do not need grid\n",
    "plt.show()"
   ]
  },
  {
   "cell_type": "code",
   "execution_count": 56,
   "metadata": {},
   "outputs": [],
   "source": [
    "from numpy import cov\n",
    "from scipy.stats import pearsonr"
   ]
  },
  {
   "cell_type": "code",
   "execution_count": 57,
   "metadata": {},
   "outputs": [
    {
     "name": "stdout",
     "output_type": "stream",
     "text": [
      "[[52650.         -1688.7       ]\n",
      " [-1688.7           54.51153846]]\n",
      "Pearson correlation : -0.997\n"
     ]
    }
   ],
   "source": [
    "covariance = cov(x1,y1)\n",
    "print(covariance)\n",
    "corr , _ = pearsonr(x1,y1)\n",
    "print(\"Pearson correlation : %.3f\" %corr)\n",
    "# t test for the population correlation coeffient \n"
   ]
  },
  {
   "cell_type": "markdown",
   "metadata": {},
   "source": [
    "# High level of correlation(nearly equal to -1) i.e. greater than 0.5 and a negative correlation. "
   ]
  },
  {
   "cell_type": "code",
   "execution_count": 58,
   "metadata": {},
   "outputs": [
    {
     "name": "stdout",
     "output_type": "stream",
     "text": [
      "t=7.134, df=25, cv=1.708, p=0.000\n",
      "Reject the null hypothesis that the means are equal.\n",
      "Reject the null hypothesis that the means are equal.\n"
     ]
    }
   ],
   "source": [
    "# t-test for dependent samples\n",
    "from math import sqrt\n",
    "from numpy.random import seed\n",
    "from numpy.random import randn\n",
    "from numpy import mean\n",
    "from scipy.stats import t\n",
    " \n",
    "# function for calculating the t-test for two dependent samples\n",
    "def dependent_ttest(x, y, alpha):\n",
    "\t# calculate means\n",
    "\tmean1, mean2 = mean(x), mean(y)\n",
    "\t# number of paired samples\n",
    "\tn = len(x)\n",
    "\t# sum squared difference between observations\n",
    "\td1 = sum([(x[i]-y[i])**2 for i in range(n)])\n",
    "\t# sum difference between observations\n",
    "\td2 = sum([x[i]-y[i] for i in range(n)])\n",
    "\t# standard deviation of the difference between means\n",
    "\tsd = sqrt((d1 - (d2**2 / n)) / (n - 1))\n",
    "\t# standard error of the difference between the means\n",
    "\tsed = sd / sqrt(n)\n",
    "\t# calculate the t statistic\n",
    "\tt_stat = (mean1 - mean2) / sed\n",
    "\t# degrees of freedom\n",
    "\tdf = n - 1\n",
    "\t# calculate the critical value\n",
    "\tcv = t.ppf(1.0 - alpha, df)\n",
    "\t# calculate the p-value\n",
    "\tp = (1.0 - t.cdf(abs(t_stat), df)) * 2.0\n",
    "\t# return everything\n",
    "\treturn t_stat, df, cv, p\n",
    " \n",
    "\n",
    "# calculate the t test\n",
    "alpha = 0.05\n",
    "t_stat, df, cv, p = dependent_ttest(x1, y1, alpha)\n",
    "print('t=%.3f, df=%d, cv=%.3f, p=%.3f' % (t_stat, df, cv, p))\n",
    "# interpret via critical value\n",
    "if abs(t_stat) <= cv:\n",
    "\tprint('Accept null hypothesis that the means are equal.')\n",
    "else:\n",
    "\tprint('Reject the null hypothesis that the means are equal.')\n",
    "# interpret via p-value\n",
    "if p > alpha:\n",
    "\tprint('Accept null hypothesis that the means are equal.')\n",
    "else:\n",
    "\tprint('Reject the null hypothesis that the means are equal.')"
   ]
  },
  {
   "cell_type": "code",
   "execution_count": null,
   "metadata": {},
   "outputs": [],
   "source": [
    "# Hence alternative hypothesis is accepted that is mean are different and hence there is significant relation between time and temperature."
   ]
  },
  {
   "cell_type": "code",
   "execution_count": 59,
   "metadata": {},
   "outputs": [],
   "source": [
    "# calculate the critical value\n",
    "alpha = 0.05\n",
    "cv = t.ppf(1.0 - alpha, df) \n"
   ]
  },
  {
   "cell_type": "code",
   "execution_count": 60,
   "metadata": {},
   "outputs": [
    {
     "name": "stdout",
     "output_type": "stream",
     "text": [
      "Reject the null hypothesis that the means are equal.\n"
     ]
    }
   ],
   "source": [
    "# interpret via p-value\n",
    "if p > alpha:\n",
    "\tprint('Accept null hypothesis that the means are equal.')\n",
    "else:\n",
    "\tprint('Reject the null hypothesis that the means are equal.')"
   ]
  },
  {
   "cell_type": "code",
   "execution_count": null,
   "metadata": {},
   "outputs": [],
   "source": [
    "#np.cov(data)\n",
    "# correlation between x and y\n",
    "# t test\n",
    "# result significance from p value"
   ]
  },
  {
   "cell_type": "code",
   "execution_count": null,
   "metadata": {},
   "outputs": [],
   "source": [
    "# https://www.statsmodels.org/stable/generated/statsmodels.graphics.gofplots.qqplot.html"
   ]
  },
  {
   "cell_type": "code",
   "execution_count": null,
   "metadata": {},
   "outputs": [],
   "source": [
    "# https://github.com/dharmapaudel "
   ]
  }
 ],
 "metadata": {
  "kernelspec": {
   "display_name": "Python 3",
   "language": "python",
   "name": "python3"
  },
  "language_info": {
   "codemirror_mode": {
    "name": "ipython",
    "version": 3
   },
   "file_extension": ".py",
   "mimetype": "text/x-python",
   "name": "python",
   "nbconvert_exporter": "python",
   "pygments_lexer": "ipython3",
   "version": "3.7.3"
  }
 },
 "nbformat": 4,
 "nbformat_minor": 2
}
